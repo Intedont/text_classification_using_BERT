{
 "cells": [
  {
   "cell_type": "code",
   "execution_count": 1,
   "id": "0d39da7b",
   "metadata": {},
   "outputs": [],
   "source": [
    "import pandas as pd\n",
    "\n",
    "data = pd.read_excel('C:/Users/murad/Desktop/VSCode_projects/bert/data_exc.xlsx')"
   ]
  },
  {
   "cell_type": "code",
   "execution_count": 2,
   "id": "f6c609fd",
   "metadata": {},
   "outputs": [
    {
     "data": {
      "text/html": [
       "<div>\n",
       "<style scoped>\n",
       "    .dataframe tbody tr th:only-of-type {\n",
       "        vertical-align: middle;\n",
       "    }\n",
       "\n",
       "    .dataframe tbody tr th {\n",
       "        vertical-align: top;\n",
       "    }\n",
       "\n",
       "    .dataframe thead th {\n",
       "        text-align: right;\n",
       "    }\n",
       "</style>\n",
       "<table border=\"1\" class=\"dataframe\">\n",
       "  <thead>\n",
       "    <tr style=\"text-align: right;\">\n",
       "      <th></th>\n",
       "      <th>category</th>\n",
       "      <th>text</th>\n",
       "    </tr>\n",
       "  </thead>\n",
       "  <tbody>\n",
       "    <tr>\n",
       "      <th>0</th>\n",
       "      <td>study</td>\n",
       "      <td>- Пока диссонанса никакого нет? Ну, сейчас нач...</td>\n",
       "    </tr>\n",
       "    <tr>\n",
       "      <th>1</th>\n",
       "      <td>NaN</td>\n",
       "      <td>NaN</td>\n",
       "    </tr>\n",
       "    <tr>\n",
       "      <th>2</th>\n",
       "      <td>study</td>\n",
       "      <td>Пара английского. Первый курс. Весенняя романт...</td>\n",
       "    </tr>\n",
       "    <tr>\n",
       "      <th>3</th>\n",
       "      <td>NaN</td>\n",
       "      <td>NaN</td>\n",
       "    </tr>\n",
       "    <tr>\n",
       "      <th>4</th>\n",
       "      <td>study</td>\n",
       "      <td>Если бы мы были ванадием, что бы мы делали...?...</td>\n",
       "    </tr>\n",
       "    <tr>\n",
       "      <th>...</th>\n",
       "      <td>...</td>\n",
       "      <td>...</td>\n",
       "    </tr>\n",
       "    <tr>\n",
       "      <th>1461</th>\n",
       "      <td>study</td>\n",
       "      <td>Сложно ли учиться на лингвистике рэу? анон</td>\n",
       "    </tr>\n",
       "    <tr>\n",
       "      <th>1462</th>\n",
       "      <td>NaN</td>\n",
       "      <td>NaN</td>\n",
       "    </tr>\n",
       "    <tr>\n",
       "      <th>1463</th>\n",
       "      <td>study</td>\n",
       "      <td>У кого есть варианты зачета со 2 курса испанск...</td>\n",
       "    </tr>\n",
       "    <tr>\n",
       "      <th>1464</th>\n",
       "      <td>NaN</td>\n",
       "      <td>NaN</td>\n",
       "    </tr>\n",
       "    <tr>\n",
       "      <th>1465</th>\n",
       "      <td>study</td>\n",
       "      <td>Привет, те, кто учатся на лингвистике можете п...</td>\n",
       "    </tr>\n",
       "  </tbody>\n",
       "</table>\n",
       "<p>1466 rows × 2 columns</p>\n",
       "</div>"
      ],
      "text/plain": [
       "     category                                               text\n",
       "0       study  - Пока диссонанса никакого нет? Ну, сейчас нач...\n",
       "1         NaN                                                NaN\n",
       "2       study  Пара английского. Первый курс. Весенняя романт...\n",
       "3         NaN                                                NaN\n",
       "4       study  Если бы мы были ванадием, что бы мы делали...?...\n",
       "...       ...                                                ...\n",
       "1461    study         Сложно ли учиться на лингвистике рэу? анон\n",
       "1462      NaN                                                NaN\n",
       "1463    study  У кого есть варианты зачета со 2 курса испанск...\n",
       "1464      NaN                                                NaN\n",
       "1465    study  Привет, те, кто учатся на лингвистике можете п...\n",
       "\n",
       "[1466 rows x 2 columns]"
      ]
     },
     "execution_count": 2,
     "metadata": {},
     "output_type": "execute_result"
    }
   ],
   "source": [
    "data"
   ]
  },
  {
   "cell_type": "code",
   "execution_count": 3,
   "id": "5f2b8f34",
   "metadata": {},
   "outputs": [],
   "source": [
    "data = data.dropna()\n",
    "data = data.reset_index()\n",
    "#data = data.drop(labels=['index'])"
   ]
  },
  {
   "cell_type": "code",
   "execution_count": 4,
   "id": "2693d02b",
   "metadata": {},
   "outputs": [],
   "source": [
    "data = data.drop(labels='index', axis=1)"
   ]
  },
  {
   "cell_type": "code",
   "execution_count": 5,
   "id": "adf9f6b5",
   "metadata": {},
   "outputs": [],
   "source": [
    "import json\n",
    "\n",
    "data_other = []\n",
    "with open('C:/Users/murad/Downloads/gazeta_train.jsonl', 'r', encoding='utf-8') as f:\n",
    "    for line in f:\n",
    "        data_other.append(json.loads(line))"
   ]
  },
  {
   "cell_type": "code",
   "execution_count": 6,
   "id": "90c91f71",
   "metadata": {},
   "outputs": [
    {
     "name": "stdout",
     "output_type": "stream",
     "text": [
      "60963\n"
     ]
    },
    {
     "data": {
      "text/plain": [
       "{'date': '2019-12-31 21:04:23',\n",
       " 'url': 'https://www.gazeta.ru/business/2019/12/31/12893810.shtml',\n",
       " 'summary': 'Поставки российской нефти в Минск не прекратятся с 2020 года. В последние дни уходящего года Александр Лукашенко сделал много звонков российским чиновникам. Два раза он поговорил с Владимиром Путиным, созвонился с Дмитрием Медведевым и Александром Новаком. Результат — поставки будут продолжены в страну без контрактов.',\n",
       " 'title': 'Поиск альтернативы: Лукашенко договорился о поставках нефти',\n",
       " 'text': 'Несмотря на приближение Нового года, последние два дня президент Белоруссии Александр Лукашенко занимался не только подготовкой к празднику. 30 и 31 декабря он провел телефонные переговоры с президентом РФ Владимиром Путиным, а также созвонился с российским премьером Дмитрием Медведевым и главой Минэнерго РФ Александром Новаком. И судя, по официальным заявлениям, все было не зря. Ему удалось добиться от Москвы по крайней мере временного решений по вопросу поставок нефти в страну. Поставки российской нефти не прекратятся в 2020 году, но будут происходить в Белоруссию без контрактов, по договоренности для каждого отдельного предприятия. «Рабочие вопросы были обсуждены в продолжение переговоров с Владимиром Путиным, а также в связи с тем, что контрактов, регламентирующих работу в нефтегазовой сфере, на 1 января не заключено. Итогом разговора стала договоренность об организации конкретной работы по поставкам углеводородного сырья в Белоруссию», — говорится в официальном сообщении президента Белоруссии, которое цитирует госагентство страны БелТА. В сообщении отмечается, что эти же вопросы Лукашенко обсудил 31 декабря по телефону с Александром Новаком. «Речь шла о конкретных графиках и компаниях, которые будут поставлять нефть в Белоруссию», — добавили в пресс-службе. Подтверждения о плодотворной работе есть и со стороны России. «Премьер-министр РФ и президент Белоруссии договорились продолжить работу по заключению контрактов по поставке углеводородов в Белоруссию», — заявил пресс-секретарь главы российского правительства Олег Осипов. Такая интенсивность переговоров вызвана тем, что у Минска не было договоренностей о поставках российской нефти в 2020 году. Агентство Reuters сообщало об угрозе прекращения Россией с 1 января поставок нефти в страну. Ранее страны затягивали переговоры по поставкам углеводородов. Александр Лукашенко 24 декабря пригрозил, что при отсутствии договоренностей с Россией по поставкам нефти Белоруссия может «забрать» две из трех труб нефтепровода «Дружба» и качать по ним саудовскую или американскую нефть реверсом из Польши. Как заявлял он в интервью «Эху Москвы», если Москва установит слишком высокую цену на газ и нефть, Минск будет искать альтернативные способы поставок. При этом Лукашенко жаловался, что Россия хочет повысить стоимость газа в 2020 году с нынешних $127 до $152 за 1 тыс. куб. На следующий день глава «Транснефти» Николай Токарев перед встречей президента России Владимира Путина с представителями крупного бизнеса заявил, что эти высказывания носят политический характер, поскольку требуют серьезной экономической проработки. По его словам, эти заявления требуют серьезной экономической проработки, поскольку никто не станет делать то, что нерационально с точки зрения выгоды для страны», — сказал он «Логистика, которая упоминалась, всегда будет связана с удорожанием тарифа и удорожанием поставок нефти», — отмечал Николай Токарев. При этом после двух телефонных переговоров с президентом России Владимиром Путиным в последние дни уходящего года пресс-секретарь Кремля Дмитрий Песков сообщал, что решить вопросы, касающиеся нефти и газа Москве и Минску, так и не удалось. Однако он призвал «не рассматривать апокалиптические сценарии» развития событий. В свою очередь Александр Лукашенко после этих переговоров отдал поручение об альтернативных поставках нефти во время встречи с руководством нефтехимического комплекса Белоруссии. Так, после экстренно созванного совещания председатель концерна «Белнефтехим» Андрей Рыбаков сообщил журналистам, что президент поручил в ближайшие часы завершить переговоры с Россией по нефти и заключить договора на поставку нефти в республику из альтернативных источников. Лукашенко поставил задачу обеспечить бесперебойную работу двух нефтеперерабатывающих заводов, добавлял он.'}"
      ]
     },
     "execution_count": 6,
     "metadata": {},
     "output_type": "execute_result"
    }
   ],
   "source": [
    "print(len(data_other)-1)\n",
    "data_other[len(data_other)-1]"
   ]
  },
  {
   "cell_type": "code",
   "execution_count": 7,
   "id": "f337583f",
   "metadata": {},
   "outputs": [],
   "source": [
    "for i in reversed(range(len(data_other) - 800, len(data_other))):\n",
    "    data = pd.concat([data, pd.DataFrame({'category':['other'], 'text':[data_other[i]['summary']]})], ignore_index=True)"
   ]
  },
  {
   "cell_type": "code",
   "execution_count": 8,
   "id": "18510eb6",
   "metadata": {},
   "outputs": [
    {
     "data": {
      "text/html": [
       "<div>\n",
       "<style scoped>\n",
       "    .dataframe tbody tr th:only-of-type {\n",
       "        vertical-align: middle;\n",
       "    }\n",
       "\n",
       "    .dataframe tbody tr th {\n",
       "        vertical-align: top;\n",
       "    }\n",
       "\n",
       "    .dataframe thead th {\n",
       "        text-align: right;\n",
       "    }\n",
       "</style>\n",
       "<table border=\"1\" class=\"dataframe\">\n",
       "  <thead>\n",
       "    <tr style=\"text-align: right;\">\n",
       "      <th></th>\n",
       "      <th>category</th>\n",
       "      <th>text</th>\n",
       "    </tr>\n",
       "  </thead>\n",
       "  <tbody>\n",
       "    <tr>\n",
       "      <th>1508</th>\n",
       "      <td>other</td>\n",
       "      <td>Страны ОПЕК+ договорились о снижении объемов д...</td>\n",
       "    </tr>\n",
       "  </tbody>\n",
       "</table>\n",
       "</div>"
      ],
      "text/plain": [
       "     category                                               text\n",
       "1508    other  Страны ОПЕК+ договорились о снижении объемов д..."
      ]
     },
     "execution_count": 8,
     "metadata": {},
     "output_type": "execute_result"
    }
   ],
   "source": [
    "data.iloc[[1508]]"
   ]
  },
  {
   "cell_type": "code",
   "execution_count": 9,
   "id": "843f8ca7",
   "metadata": {},
   "outputs": [],
   "source": [
    "import re\n",
    "\n",
    "data['text']=data['text'].apply(lambda x: re.sub('#[0-9A-Za-zА-Яа-яё_]+', '', x)) #вырезаем хэштеги\n",
    "data['text']=data['text'].apply(lambda x: re.sub('http[^\\s]+', '', x))            #вырезаем ссылки\n",
    "data['text']=data['text'].apply(lambda x: re.sub('club[0-9]+', '', x))            #вырезаем ссылки на группы типа club12345\n",
    "data['text']=data['text'].apply(lambda x: x.lower())                              #приводим к нижнему регистру\n",
    "data['text']=data['text'].apply(lambda x: re.sub('[^\\w\\s#@/:%.,_-]', '', x))      #вырезаем эмодзи"
   ]
  },
  {
   "cell_type": "code",
   "execution_count": 10,
   "id": "0e6f22dc",
   "metadata": {},
   "outputs": [
    {
     "data": {
      "text/plain": [
       "336    день открытых дверей программы: венчурные инве...\n",
       "Name: text, dtype: object"
      ]
     },
     "execution_count": 10,
     "metadata": {},
     "output_type": "execute_result"
    }
   ],
   "source": [
    "#pd.set_option('display.max_colwidth', None)\n",
    "data.iloc[[336]]['text']"
   ]
  },
  {
   "cell_type": "code",
   "execution_count": 11,
   "id": "9b45510f",
   "metadata": {},
   "outputs": [
    {
     "data": {
      "text/html": [
       "<div>\n",
       "<style scoped>\n",
       "    .dataframe tbody tr th:only-of-type {\n",
       "        vertical-align: middle;\n",
       "    }\n",
       "\n",
       "    .dataframe tbody tr th {\n",
       "        vertical-align: top;\n",
       "    }\n",
       "\n",
       "    .dataframe thead th {\n",
       "        text-align: right;\n",
       "    }\n",
       "</style>\n",
       "<table border=\"1\" class=\"dataframe\">\n",
       "  <thead>\n",
       "    <tr style=\"text-align: right;\">\n",
       "      <th></th>\n",
       "      <th>category</th>\n",
       "      <th>text</th>\n",
       "    </tr>\n",
       "  </thead>\n",
       "  <tbody>\n",
       "    <tr>\n",
       "      <th>0</th>\n",
       "      <td>study</td>\n",
       "      <td>пока диссонанса никакого нет ну сейчас начнёт...</td>\n",
       "    </tr>\n",
       "    <tr>\n",
       "      <th>1</th>\n",
       "      <td>study</td>\n",
       "      <td>пара английского первый курс весенняя романтик...</td>\n",
       "    </tr>\n",
       "    <tr>\n",
       "      <th>2</th>\n",
       "      <td>study</td>\n",
       "      <td>если бы мы были ванадием что бы мы делали</td>\n",
       "    </tr>\n",
       "    <tr>\n",
       "      <th>3</th>\n",
       "      <td>study</td>\n",
       "      <td>студент опаздывают на лекцию на полчаса  вот ч...</td>\n",
       "    </tr>\n",
       "    <tr>\n",
       "      <th>4</th>\n",
       "      <td>study</td>\n",
       "      <td>вы должны возбуждаться когда решаете уравнения</td>\n",
       "    </tr>\n",
       "  </tbody>\n",
       "</table>\n",
       "</div>"
      ],
      "text/plain": [
       "  category                                               text\n",
       "0    study   пока диссонанса никакого нет ну сейчас начнёт...\n",
       "1    study  пара английского первый курс весенняя романтик...\n",
       "2    study       если бы мы были ванадием что бы мы делали   \n",
       "3    study  студент опаздывают на лекцию на полчаса  вот ч...\n",
       "4    study  вы должны возбуждаться когда решаете уравнения   "
      ]
     },
     "execution_count": 11,
     "metadata": {},
     "output_type": "execute_result"
    }
   ],
   "source": [
    "import string\n",
    "\n",
    "def remove_punctuation(text):\n",
    "    no_punct=[words for words in text if words not in string.punctuation]\n",
    "    words_wo_punct=''.join(no_punct)\n",
    "    return words_wo_punct\n",
    "\n",
    "data['text']=data['text'].apply(lambda x: remove_punctuation(x))\n",
    "data.head()"
   ]
  },
  {
   "cell_type": "code",
   "execution_count": 12,
   "id": "cc520aee",
   "metadata": {},
   "outputs": [
    {
     "name": "stdout",
     "output_type": "stream",
     "text": [
      "['и', 'в', 'во', 'не', 'что', 'он', 'на', 'я', 'с', 'со', 'как', 'а', 'то', 'все', 'она', 'так', 'его', 'но', 'да', 'ты', 'к', 'у', 'же', 'вы', 'за', 'бы', 'по', 'только', 'ее', 'мне', 'было', 'вот', 'от', 'меня', 'еще', 'нет', 'о', 'из', 'ему', 'теперь', 'когда', 'даже', 'ну', 'вдруг', 'ли', 'если', 'уже', 'или', 'ни', 'быть', 'был', 'него', 'до', 'вас', 'нибудь', 'опять', 'уж', 'вам', 'ведь', 'там', 'потом', 'себя', 'ничего', 'ей', 'может', 'они', 'тут', 'где', 'есть', 'надо', 'ней', 'для', 'мы', 'тебя', 'их', 'чем', 'была', 'сам', 'чтоб', 'без', 'будто', 'чего', 'раз', 'тоже', 'себе', 'под', 'будет', 'ж', 'тогда', 'кто', 'этот', 'того', 'потому', 'этого', 'какой', 'совсем', 'ним', 'здесь', 'этом', 'один', 'почти', 'мой', 'тем', 'чтобы', 'нее', 'сейчас', 'были', 'куда', 'зачем', 'всех', 'никогда', 'можно', 'при', 'наконец', 'два', 'об', 'другой', 'хоть', 'после', 'над', 'больше', 'тот', 'через', 'эти', 'нас', 'про', 'всего', 'них', 'какая', 'много', 'разве', 'три', 'эту', 'моя', 'впрочем', 'хорошо', 'свою', 'этой', 'перед', 'иногда', 'лучше', 'чуть', 'том', 'нельзя', 'такой', 'им', 'более', 'всегда', 'конечно', 'всю', 'между']\n"
     ]
    },
    {
     "name": "stderr",
     "output_type": "stream",
     "text": [
      "[nltk_data] Downloading package stopwords to\n",
      "[nltk_data]     C:\\Users\\murad\\AppData\\Roaming\\nltk_data...\n",
      "[nltk_data]   Package stopwords is already up-to-date!\n"
     ]
    }
   ],
   "source": [
    "import nltk\n",
    "nltk.download('stopwords')\n",
    "from nltk.corpus import stopwords\n",
    "print(stopwords.words('russian'))\n"
   ]
  },
  {
   "cell_type": "code",
   "execution_count": 13,
   "id": "92f1361e",
   "metadata": {},
   "outputs": [],
   "source": [
    "stopword = stopwords.words('russian')\n",
    "def remove_stopwords(text):\n",
    "    words = text.split()\n",
    "    ans = ''\n",
    "    for word in words:\n",
    "        if word not in stopword:\n",
    "            ans += word + ' '\n",
    "    \n",
    "    return ans\n",
    "\n",
    "data['text'] = data['text'].apply(lambda x: remove_stopwords(x))"
   ]
  },
  {
   "cell_type": "code",
   "execution_count": 14,
   "id": "44a093fe",
   "metadata": {},
   "outputs": [],
   "source": [
    "data.to_csv('dataset.csv', encoding='utf-16')"
   ]
  },
  {
   "cell_type": "code",
   "execution_count": 15,
   "id": "f551ebf9",
   "metadata": {},
   "outputs": [],
   "source": [
    "import pymorphy2\n",
    "morph = pymorphy2.MorphAnalyzer()\n",
    "\n",
    "def lemmatize(text):\n",
    "    words = text.split() # разбиваем текст на слова\n",
    "    res = list()\n",
    "    for word in words:\n",
    "        p = morph.parse(word)[0]\n",
    "        res.append(p.normal_form + ' ')\n",
    "\n",
    "    return ''.join(res)\n",
    "\n",
    "data['text'] = data['text'].apply(lambda x: lemmatize(x))"
   ]
  },
  {
   "cell_type": "code",
   "execution_count": 16,
   "id": "fd330792",
   "metadata": {},
   "outputs": [
    {
     "data": {
      "text/html": [
       "<div>\n",
       "<style scoped>\n",
       "    .dataframe tbody tr th:only-of-type {\n",
       "        vertical-align: middle;\n",
       "    }\n",
       "\n",
       "    .dataframe tbody tr th {\n",
       "        vertical-align: top;\n",
       "    }\n",
       "\n",
       "    .dataframe thead th {\n",
       "        text-align: right;\n",
       "    }\n",
       "</style>\n",
       "<table border=\"1\" class=\"dataframe\">\n",
       "  <thead>\n",
       "    <tr style=\"text-align: right;\">\n",
       "      <th></th>\n",
       "      <th>category</th>\n",
       "      <th>text</th>\n",
       "    </tr>\n",
       "  </thead>\n",
       "  <tbody>\n",
       "    <tr>\n",
       "      <th>0</th>\n",
       "      <td>study</td>\n",
       "      <td>пока диссонанс никакой начаться</td>\n",
       "    </tr>\n",
       "    <tr>\n",
       "      <th>1</th>\n",
       "      <td>study</td>\n",
       "      <td>пара английский первый курс весенний романтика...</td>\n",
       "    </tr>\n",
       "    <tr>\n",
       "      <th>2</th>\n",
       "      <td>study</td>\n",
       "      <td>ванадий делать</td>\n",
       "    </tr>\n",
       "    <tr>\n",
       "      <th>3</th>\n",
       "      <td>study</td>\n",
       "      <td>студент опаздывать лекция полчаса поздно прихо...</td>\n",
       "    </tr>\n",
       "    <tr>\n",
       "      <th>4</th>\n",
       "      <td>study</td>\n",
       "      <td>должный возбуждаться решать уравнение</td>\n",
       "    </tr>\n",
       "    <tr>\n",
       "      <th>...</th>\n",
       "      <td>...</td>\n",
       "      <td>...</td>\n",
       "    </tr>\n",
       "    <tr>\n",
       "      <th>1507</th>\n",
       "      <td>other</td>\n",
       "      <td>нафтогаз заявить украинский сторона согласный ...</td>\n",
       "    </tr>\n",
       "    <tr>\n",
       "      <th>1508</th>\n",
       "      <td>other</td>\n",
       "      <td>страна опек договориться снижение объём добыча...</td>\n",
       "    </tr>\n",
       "    <tr>\n",
       "      <th>1509</th>\n",
       "      <td>other</td>\n",
       "      <td>меджлис крымскотатарский народ экстремистский ...</td>\n",
       "    </tr>\n",
       "    <tr>\n",
       "      <th>1510</th>\n",
       "      <td>other</td>\n",
       "      <td>недавно вернуться россия певица наталья ветлиц...</td>\n",
       "    </tr>\n",
       "    <tr>\n",
       "      <th>1511</th>\n",
       "      <td>other</td>\n",
       "      <td>канцлер германия ангела меркель впервые 14 год...</td>\n",
       "    </tr>\n",
       "  </tbody>\n",
       "</table>\n",
       "<p>1512 rows × 2 columns</p>\n",
       "</div>"
      ],
      "text/plain": [
       "     category                                               text\n",
       "0       study                   пока диссонанс никакой начаться \n",
       "1       study  пара английский первый курс весенний романтика...\n",
       "2       study                                    ванадий делать \n",
       "3       study  студент опаздывать лекция полчаса поздно прихо...\n",
       "4       study             должный возбуждаться решать уравнение \n",
       "...       ...                                                ...\n",
       "1507    other  нафтогаз заявить украинский сторона согласный ...\n",
       "1508    other  страна опек договориться снижение объём добыча...\n",
       "1509    other  меджлис крымскотатарский народ экстремистский ...\n",
       "1510    other  недавно вернуться россия певица наталья ветлиц...\n",
       "1511    other  канцлер германия ангела меркель впервые 14 год...\n",
       "\n",
       "[1512 rows x 2 columns]"
      ]
     },
     "execution_count": 16,
     "metadata": {},
     "output_type": "execute_result"
    }
   ],
   "source": [
    "data"
   ]
  },
  {
   "cell_type": "code",
   "execution_count": 17,
   "id": "d94ab704",
   "metadata": {},
   "outputs": [],
   "source": [
    "data.to_csv('dataset_lemm.csv', encoding='utf-16')"
   ]
  }
 ],
 "metadata": {
  "kernelspec": {
   "display_name": "Python 3 (ipykernel)",
   "language": "python",
   "name": "python3"
  },
  "language_info": {
   "codemirror_mode": {
    "name": "ipython",
    "version": 3
   },
   "file_extension": ".py",
   "mimetype": "text/x-python",
   "name": "python",
   "nbconvert_exporter": "python",
   "pygments_lexer": "ipython3",
   "version": "3.10.5"
  }
 },
 "nbformat": 4,
 "nbformat_minor": 5
}
